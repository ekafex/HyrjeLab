{
 "cells": [
  {
   "cell_type": "markdown",
   "id": "7ccaf0d9",
   "metadata": {},
   "source": [
    "# Data Analysis Basics\n",
    "\n",
    "*Load → Inspect → Analyse → Model → Visualise*"
   ]
  },
  {
   "cell_type": "markdown",
   "id": "957f82db",
   "metadata": {},
   "source": [
    "### Learning goals\n",
    "1. Load experimental data from a CSV file.\n",
    "2. Compute descriptive statistics (mean, standard deviation, etc.).\n",
    "3. Perform a simple linear fit to the data.\n",
    "4. Plot raw data and fitted model using **matplotlib**.\n",
    "5. Interpret residuals and goodness‑of‑fit."
   ]
  },
  {
   "cell_type": "markdown",
   "id": "a4a2216b",
   "metadata": {},
   "source": [
    "## 1 · Import libraries"
   ]
  },
  {
   "cell_type": "code",
   "execution_count": null,
   "id": "c1d1d51c",
   "metadata": {},
   "outputs": [],
   "source": [
    "import numpy as np\n",
    "import pandas as pd\n",
    "import matplotlib.pyplot as plt\n",
    "%matplotlib inline"
   ]
  },
  {
   "cell_type": "markdown",
   "id": "2665fe29",
   "metadata": {},
   "source": [
    "## 2 · Load experimental data"
   ]
  },
  {
   "cell_type": "code",
   "execution_count": null,
   "id": "d47c64b3",
   "metadata": {},
   "outputs": [],
   "source": [
    "df = pd.read_csv('sample_experiment.csv')  # ensure the CSV is in the same folder\n",
    "df.head()"
   ]
  },
  {
   "cell_type": "markdown",
   "id": "6b11ab71",
   "metadata": {},
   "source": [
    "### Quick inspection"
   ]
  },
  {
   "cell_type": "code",
   "execution_count": null,
   "id": "e267aa7c",
   "metadata": {},
   "outputs": [],
   "source": [
    "df.info()\n",
    "df.describe()"
   ]
  },
  {
   "cell_type": "markdown",
   "id": "90e17466",
   "metadata": {},
   "source": [
    "## 3 · Basic statistics"
   ]
  },
  {
   "cell_type": "code",
   "execution_count": null,
   "id": "e435c190",
   "metadata": {},
   "outputs": [],
   "source": [
    "# Using pandas built‑ins\n",
    "mean_v = df['voltage_V'].mean()\n",
    "std_v = df['voltage_V'].std(ddof=0)  # population std\n",
    "print(f'mean = {mean_v:.3f} V,  σ = {std_v:.3f} V')\n",
    "\n",
    "# Same with NumPy\n",
    "mean_np = np.mean(df['voltage_V'].values)\n",
    "std_np = np.std(df['voltage_V'].values)\n",
    "print(f'(NumPy) mean = {mean_np:.3f} V,  σ = {std_np:.3f} V')"
   ]
  },
  {
   "cell_type": "markdown",
   "id": "cf6978a2",
   "metadata": {},
   "source": [
    "### Custom helper (optional)"
   ]
  },
  {
   "cell_type": "code",
   "execution_count": null,
   "id": "bdc64538",
   "metadata": {},
   "outputs": [],
   "source": [
    "def rms(arr):\n",
    "    \"\"\"Root‑mean‑square of a 1‑D array\"\"\"\n",
    "    return np.sqrt(np.mean(np.square(arr)))\n",
    "\n",
    "print('RMS voltage:', rms(df['voltage_V']).round(3), 'V')"
   ]
  },
  {
   "cell_type": "markdown",
   "id": "21f84ff7",
   "metadata": {},
   "source": [
    "## 4 · Visualising the data"
   ]
  },
  {
   "cell_type": "code",
   "execution_count": null,
   "id": "f6b326bb",
   "metadata": {},
   "outputs": [],
   "source": [
    "fig, ax = plt.subplots()\n",
    "ax.scatter(df['time_s'], df['voltage_V'], label='measurement', alpha=0.8)\n",
    "ax.set_xlabel('Time [s]')\n",
    "ax.set_ylabel('Voltage [V]')\n",
    "ax.set_title('Experimental data')\n",
    "ax.legend(); plt.show()"
   ]
  },
  {
   "cell_type": "markdown",
   "id": "bbd4b4a2",
   "metadata": {},
   "source": [
    "## 5 · Linear fit"
   ]
  },
  {
   "cell_type": "code",
   "execution_count": null,
   "id": "630c2e66",
   "metadata": {},
   "outputs": [],
   "source": [
    "coeffs = np.polyfit(df['time_s'], df['voltage_V'], deg=1)  # slope, intercept\n",
    "slope, intercept = coeffs\n",
    "print(f'slope = {slope:.3f} V/s,  intercept = {intercept:.3f} V')\n",
    "\n",
    "fit_line = np.poly1d(coeffs)\n",
    "\n",
    "fig, ax = plt.subplots()\n",
    "ax.scatter(df['time_s'], df['voltage_V'], alpha=0.8, label='measurement')\n",
    "ax.plot(df['time_s'], fit_line(df['time_s']), color='red', label='linear fit')\n",
    "ax.set_xlabel('Time [s]'); ax.set_ylabel('Voltage [V]')\n",
    "ax.legend(); ax.set_title('Linear fit to data'); plt.show()"
   ]
  },
  {
   "cell_type": "markdown",
   "id": "2f705734",
   "metadata": {},
   "source": [
    "### Residual analysis"
   ]
  },
  {
   "cell_type": "code",
   "execution_count": null,
   "id": "3c310be0",
   "metadata": {},
   "outputs": [],
   "source": [
    "residuals = df['voltage_V'] - fit_line(df['time_s'])\n",
    "rmse = np.sqrt(np.mean(residuals**2))\n",
    "print(f'RMSE = {rmse:.3f} V')\n",
    "\n",
    "fig, ax = plt.subplots()\n",
    "ax.hist(residuals, bins=10)\n",
    "ax.set_xlabel('Residual [V]'); ax.set_ylabel('Count')\n",
    "ax.set_title('Residual distribution'); plt.show()"
   ]
  },
  {
   "cell_type": "markdown",
   "id": "e1b1b558",
   "metadata": {},
   "source": [
    "\n",
    "## 6 · Your turn ✍️\n",
    "\n",
    "1. **Median & MAD** – compute the median voltage and median absolute deviation (MAD).  \n",
    "2. **Alternative fit** – try fitting a quadratic (`deg=2`) and compare RMSE.  \n",
    "3. **Export** – save your cleaned DataFrame to `clean_experiment.csv`.\n"
   ]
  },
  {
   "cell_type": "markdown",
   "id": "af541f2b",
   "metadata": {},
   "source": [
    "## 7 · Summary\n",
    "You loaded a dataset, explored descriptive statistics, performed a linear fit, and visualised both the raw data and model. These are the essential steps of a basic data‑analysis workflow—ready for your own experimental measurements!"
   ]
  }
 ],
 "metadata": {
  "kernelspec": {
   "display_name": "Python 3 (ipykernel)",
   "language": "python",
   "name": "python3"
  },
  "language_info": {
   "codemirror_mode": {
    "name": "ipython",
    "version": 3
   },
   "file_extension": ".py",
   "mimetype": "text/x-python",
   "name": "python",
   "nbconvert_exporter": "python",
   "pygments_lexer": "ipython3",
   "version": "3.12.10"
  }
 },
 "nbformat": 4,
 "nbformat_minor": 5
}
