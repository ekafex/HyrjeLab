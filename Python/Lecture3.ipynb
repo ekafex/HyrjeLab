{
 "cells": [
  {
   "cell_type": "markdown",
   "id": "c30a9b18",
   "metadata": {},
   "source": [
    "# Section 1 – Thinking in Python\n",
    "\n",
    "*Turning compiled‑language instincts into productive Python habits*"
   ]
  },
  {
   "cell_type": "markdown",
   "id": "79043de4",
   "metadata": {},
   "source": [
    "### Learning goals\n",
    "By the end of this notebook you should be able to:\n",
    "1. Navigate JupyterLab and mix Markdown with runnable code.\n",
    "2. Translate core C/C++ constructs into idiomatic Python.\n",
    "3. Write simple reusable functions and understand module namespaces.\n",
    "4. Use **NumPy** arrays for fast, vectorised computation.\n",
    "5. Produce a basic publication‑ready figure with **matplotlib**."
   ]
  },
  {
   "cell_type": "markdown",
   "id": "66346ffe",
   "metadata": {},
   "source": [
    "\n",
    "### 0 · Python mini‑reference for C/C++ folks\n",
    "\n",
    "| C / C++ | Python |\n",
    "|---------|--------|\n",
    "| `int a[5];` | `import numpy as np; a = np.zeros(5, dtype=int)` |\n",
    "| `for(int i=0;i<n;i++){}` | `for i in range(n):` |\n",
    "| `double f(double x){ return x*x; }` | `def f(x): return x**2` |\n",
    "| `printf(\"x=%d\\n\", x);` | `print(f\"x={x}\")` |\n",
    "| header include | `import module` |\n"
   ]
  },
  {
   "cell_type": "code",
   "execution_count": null,
   "id": "269dd561",
   "metadata": {},
   "outputs": [],
   "source": [
    "# Classic C‑style loop vs Python list comprehension\n",
    "n = 10\n",
    "squares_loop = []\n",
    "for i in range(n):\n",
    "    squares_loop.append(i**2)\n",
    "\n",
    "squares_comp = [i**2 for i in range(n)]\n",
    "print('Loop:', squares_loop)\n",
    "print('Comprehension:', squares_comp)"
   ]
  },
  {
   "cell_type": "markdown",
   "id": "680f59e8",
   "metadata": {},
   "source": [
    "\n",
    "**Exercise 1 – FizzBuzz refresher**  \n",
    "Implement the classic *FizzBuzz* (numbers 1‑30, print “Fizz” for multiples of 3, “Buzz” for multiples of 5, “FizzBuzz” for both) **twice**:  \n",
    "1. with a `for` loop,  \n",
    "2. as a one‑liner list comprehension.  \n",
    "Use a separate code cell below.\n"
   ]
  },
  {
   "cell_type": "code",
   "execution_count": null,
   "id": "4ecbc369",
   "metadata": {},
   "outputs": [],
   "source": [
    "# Your implementation here\n"
   ]
  },
  {
   "cell_type": "markdown",
   "id": "8d5b5387",
   "metadata": {},
   "source": [
    "### 1 · Functions & modules\n",
    "Python encourages small, reusable functions. Below we define one that returns both mean **and** standard deviation, then use **unpacking**."
   ]
  },
  {
   "cell_type": "code",
   "execution_count": null,
   "id": "b2f048d2",
   "metadata": {},
   "outputs": [],
   "source": [
    "def mean_std(arr):\n",
    "    \"\"\"Return (μ, σ) of a 1‑D numeric iterable.\"\"\"\n",
    "    import math\n",
    "    μ = sum(arr) / len(arr)\n",
    "    σ = math.sqrt(sum((x-μ)**2 for x in arr) / len(arr))\n",
    "    return μ, σ\n",
    "\n",
    "data = [1, 2, 4, 7, 11]\n",
    "μ, σ = mean_std(data)\n",
    "print(f\"mean={μ},  std={σ:.3f}\")"
   ]
  },
  {
   "cell_type": "markdown",
   "id": "96d805d6",
   "metadata": {},
   "source": [
    "\n",
    "**Exercise 2 – Namespacing**  \n",
    "1. Place the `mean_std` function in a new file `stats_helpers.py` (create it via the *File > New > Text File* menu).  \n",
    "2. Import it in a fresh code cell using `from stats_helpers import mean_std` and show it works.  \n",
    "3. What happens if you modify the file and re‑import?\n"
   ]
  },
  {
   "cell_type": "code",
   "execution_count": null,
   "id": "d906812a",
   "metadata": {},
   "outputs": [],
   "source": [
    "# Your code here\n"
   ]
  },
  {
   "cell_type": "markdown",
   "id": "9e6a82f2",
   "metadata": {},
   "source": [
    "### 2 · NumPy array essentials"
   ]
  },
  {
   "cell_type": "code",
   "execution_count": null,
   "id": "1b39ac58",
   "metadata": {},
   "outputs": [],
   "source": [
    "import numpy as np\n",
    "\n",
    "# Create a 1‑D and a 2‑D array\n",
    "a = np.arange(6)\n",
    "b = a.reshape(2, 3)\n",
    "print('a:', a)\n",
    "print('b:\\n', b)\n",
    "\n",
    "# Broadcasting demo: subtract column means\n",
    "col_means = b.mean(axis=0)\n",
    "c = b - col_means\n",
    "print('\\nCentered array:\\n', c)"
   ]
  },
  {
   "cell_type": "markdown",
   "id": "610bf9a0",
   "metadata": {},
   "source": [
    "\n",
    "**Exercise 3 – Synthetic signal**  \n",
    "1. Create a NumPy array `x` of 1000 points between 0 and 2π.  \n",
    "2. Generate `y = sin(x) + noise`, where `noise ~ N(0, 0.2)`.  \n",
    "3. Plot the result using **matplotlib** (see template below).  \n",
    "4. Compute the root‑mean‑square (RMS) error between `y` and the pure `sin(x)`.\n"
   ]
  },
  {
   "cell_type": "code",
   "execution_count": null,
   "id": "ce0be62e",
   "metadata": {},
   "outputs": [],
   "source": [
    "%matplotlib inline\n",
    "import numpy as np\n",
    "import matplotlib.pyplot as plt\n",
    "\n",
    "# TODO: generate x, y\n",
    "\n",
    "fig, ax = plt.subplots()\n",
    "ax.plot(x, y, label='noisy')\n",
    "ax.plot(x, np.sin(x), '--', label='true')\n",
    "ax.set_xlabel('x')\n",
    "ax.set_ylabel('y')\n",
    "ax.legend()\n",
    "ax.set_title('Noisy sine wave')\n",
    "plt.show()"
   ]
  },
  {
   "cell_type": "markdown",
   "id": "084cf029",
   "metadata": {},
   "source": [
    "### 3 · Performance teaser\n",
    "Vectorised NumPy is typically **orders of magnitude** faster than pure‑Python loops."
   ]
  },
  {
   "cell_type": "code",
   "execution_count": null,
   "id": "86a4aa24",
   "metadata": {},
   "outputs": [],
   "source": [
    "n = 1000000\n",
    "x = np.linspace(0, 2*np.pi, n)\n",
    "\n",
    "def pure_python_sin(xs):\n",
    "    import math\n",
    "    return [math.sin(z) for z in xs]\n",
    "\n",
    "%timeit pure_python_sin(x)\n",
    "%timeit np.sin(x)"
   ]
  },
  {
   "cell_type": "markdown",
   "id": "e34919e3",
   "metadata": {},
   "source": [
    "## Wrap‑up\n",
    "You’ve covered core Python syntax, functions, NumPy vectorisation, and basic plotting. 👍\n",
    "\n",
    "**Challenge**: try re‑implementing Exercise 3 **without** NumPy and compare runtimes."
   ]
  },
  {
   "cell_type": "code",
   "execution_count": null,
   "id": "a7fc8341-1934-47d6-a9e6-5852a69d842a",
   "metadata": {},
   "outputs": [],
   "source": []
  }
 ],
 "metadata": {
  "kernelspec": {
   "display_name": "Python 3 (ipykernel)",
   "language": "python",
   "name": "python3"
  },
  "language_info": {
   "codemirror_mode": {
    "name": "ipython",
    "version": 3
   },
   "file_extension": ".py",
   "mimetype": "text/x-python",
   "name": "python",
   "nbconvert_exporter": "python",
   "pygments_lexer": "ipython3",
   "version": "3.12.10"
  }
 },
 "nbformat": 4,
 "nbformat_minor": 5
}
