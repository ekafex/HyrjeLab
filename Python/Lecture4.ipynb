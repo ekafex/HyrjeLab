{
 "cells": [
  {
   "cell_type": "markdown",
   "id": "68922c9f",
   "metadata": {},
   "source": [
    "# Data Pipeline in Practice\n",
    "\n",
    "`NumPy + matplotlib + pandas` for real‑world analysis"
   ]
  },
  {
   "cell_type": "markdown",
   "id": "c93adb38",
   "metadata": {},
   "source": [
    "## Learning goals\n",
    "1. Deepen your NumPy fluency: boolean masking, fancy indexing, reshaping tricks.\n",
    "2. Use broadcasting & linear algebra helpers to solve compact physics problems.\n",
    "3. Craft multi‑panel, publication‑quality figures with the OO interface of **matplotlib**.\n",
    "4. Discover **pandas** as a labelled data container and quick analysis tool.\n",
    "5. Launch a mini‑project: clean, analyse & visualise a small experimental dataset."
   ]
  },
  {
   "cell_type": "markdown",
   "id": "b5e1326c",
   "metadata": {},
   "source": [
    "### 0 · Warm‑up: vectorisation wins\n",
    "Run the timing snippet below to remind yourself **why** we love NumPy."
   ]
  },
  {
   "cell_type": "code",
   "execution_count": null,
   "id": "a4b8341a",
   "metadata": {},
   "outputs": [],
   "source": [
    "import numpy as np, math\n",
    "n = 1000\n",
    "x = np.linspace(0, 2*np.pi, n)\n",
    "\n",
    "def pure_python(xs):\n",
    "    return [math.sin(z) for z in xs]\n",
    "\n",
    "%timeit pure_python(x)\n",
    "%timeit np.sin(x)"
   ]
  },
  {
   "cell_type": "markdown",
   "id": "41fe1103",
   "metadata": {},
   "source": [
    "## 1 · Advanced NumPy toolkit"
   ]
  },
  {
   "cell_type": "code",
   "execution_count": null,
   "id": "3ed095de",
   "metadata": {},
   "outputs": [],
   "source": [
    "import numpy as np\n",
    "\n",
    "# Synthetic 2‑D sensor data: rows = time snapshots, cols = sensors\n",
    "rng = np.random.default_rng(42)\n",
    "data = rng.normal(loc=0, scale=1, size=(5, 4))\n",
    "print('Raw data:\\n', data)\n",
    "\n",
    "# Boolean mask: mark values outside ±1.5σ as outliers\n",
    "mask_out = np.abs(data) > 1.5\n",
    "print('\\nMask:\\n', mask_out)\n",
    "\n",
    "# Replace outliers with NaN, then compute column means ignoring NaNs\n",
    "clean = data.copy()\n",
    "clean[mask_out] = np.nan\n",
    "col_means = np.nanmean(clean, axis=0)\n",
    "print('\\nColumn means (cleaned):', col_means)\n",
    "\n",
    "# Fancy indexing: extract rows 0 and 3, columns 1 and 2\n",
    "subset = data[[0, 3]][:, [1, 2]]\n",
    "print('\\nFancy‑indexed subset:\\n', subset)"
   ]
  },
  {
   "cell_type": "markdown",
   "id": "7e26aaa3",
   "metadata": {},
   "source": [
    "\n",
    "**Exercise 1 – Reshape gymnastics**  \n",
    "1. Create a NumPy array `A` of shape (24,) containing the integers 0‑23.  \n",
    "2. Reshape it into a 3‑D array of shape (2, 3, 4) **without copying** data (hint: `view`).  \n",
    "3. Swap axes so that the new shape is (3, 4, 2).  \n",
    "4. Verify that modifying one view affects the original array.\n"
   ]
  },
  {
   "cell_type": "code",
   "execution_count": null,
   "id": "c95a524d",
   "metadata": {},
   "outputs": [],
   "source": [
    "# Your code here\n"
   ]
  },
  {
   "cell_type": "markdown",
   "id": "58f2f221",
   "metadata": {},
   "source": [
    "## 2 · Broadcasting & Linear Algebra mini‑tour"
   ]
  },
  {
   "cell_type": "code",
   "execution_count": null,
   "id": "56101544",
   "metadata": {},
   "outputs": [],
   "source": [
    "import numpy as np\n",
    "\n",
    "# Outer product via broadcasting\n",
    "v = np.arange(5)\n",
    "outer = v[:, None] * v[None, :]\n",
    "print('Outer product:\\n', outer)\n",
    "\n",
    "# Solve a linear system: RLC circuit currents\n",
    "A = np.array([[4, 1, -1],\n",
    "              [2, 7,  1],\n",
    "              [1, -3, 5]], dtype=float)\n",
    "b = np.array([15, 18, 14], dtype=float)\n",
    "x = np.linalg.solve(A, b)\n",
    "print('\\nSolution x =', x)\n",
    "\n",
    "# Eigenvalues of a 2×2 matrix\n",
    "eigvals, eigvecs = np.linalg.eig(np.array([[0, 1], [-2, -3]]))\n",
    "print('\\nEigenvalues:', eigvals)"
   ]
  },
  {
   "cell_type": "markdown",
   "id": "87108cc8",
   "metadata": {},
   "source": [
    "## 3 · Multi‑panel plotting with matplotlib (OO interface)"
   ]
  },
  {
   "cell_type": "code",
   "execution_count": null,
   "id": "7749a447",
   "metadata": {},
   "outputs": [],
   "source": [
    "%matplotlib inline\n",
    "import numpy as np, matplotlib.pyplot as plt\n",
    "\n",
    "t = np.linspace(0, 10, 500)\n",
    "signal = np.exp(-0.2*t) * np.cos(2*np.pi*1.5*t)\n",
    "noise = 0.1 * np.random.default_rng(0).normal(size=t.size)\n",
    "y = signal + noise\n",
    "\n",
    "fig, axs = plt.subplots(2, 1, figsize=(7, 6), sharex=True)\n",
    "\n",
    "axs[0].plot(t, y, label='noisy')\n",
    "axs[0].plot(t, signal, '--', label='true')\n",
    "axs[0].set_ylabel('Amplitude')\n",
    "axs[0].legend()\n",
    "axs[0].set_title('Damped cosine, noisy vs true')\n",
    "\n",
    "axs[1].hist(y - signal, bins=40)\n",
    "axs[1].set_xlabel('Residual')\n",
    "axs[1].set_ylabel('freq')\n",
    "\n",
    "fig.tight_layout()\n",
    "plt.show()"
   ]
  },
  {
   "cell_type": "markdown",
   "id": "016b9031",
   "metadata": {},
   "source": [
    "## 4 · pandas quick‑start"
   ]
  },
  {
   "cell_type": "code",
   "execution_count": null,
   "id": "23a5429a",
   "metadata": {},
   "outputs": [],
   "source": [
    "import pandas as pd, numpy as np\n",
    "\n",
    "rng = np.random.default_rng(1)\n",
    "n = 200\n",
    "df = pd.DataFrame({\n",
    "    'timestamp': pd.date_range('2025‑01‑01', periods=n, freq='h'),\n",
    "    'sensor': rng.choice(['A', 'B', 'C'], size=n),\n",
    "    'reading': rng.normal(0, 1, size=n) + np.linspace(0, 3, n)\n",
    "})\n",
    "df.head()"
   ]
  },
  {
   "cell_type": "code",
   "execution_count": null,
   "id": "4e80d03f",
   "metadata": {},
   "outputs": [],
   "source": [
    "# Mean reading per sensor\n",
    "group_stats = df.groupby('sensor')['reading'].describe()\n",
    "group_stats"
   ]
  },
  {
   "cell_type": "code",
   "execution_count": null,
   "id": "b8c058f3",
   "metadata": {},
   "outputs": [],
   "source": [
    "%matplotlib inline\n",
    "import matplotlib.pyplot as plt\n",
    "fig, ax = plt.subplots()\n",
    "for name, sub in df.groupby('sensor'):\n",
    "    ax.plot(sub['timestamp'], sub['reading'], label=f'Sensor {name}')\n",
    "ax.legend(); ax.set_ylabel('Reading'); ax.set_title('Sensor drift'); plt.show()"
   ]
  },
  {
   "cell_type": "markdown",
   "id": "a0e56a78",
   "metadata": {},
   "source": [
    "\n",
    "**Exercise 2 – Cleaning & slicing**  \n",
    "1. Compute a rolling mean (window = 10 hours) for each sensor and plot it.  \n",
    "2. Remove readings outside the 5th/95th percentile and re‑plot the histogram of all sensors combined.\n"
   ]
  },
  {
   "cell_type": "code",
   "execution_count": null,
   "id": "711c0205",
   "metadata": {},
   "outputs": [],
   "source": [
    "# Your code here\n"
   ]
  },
  {
   "cell_type": "markdown",
   "id": "e89104d6",
   "metadata": {},
   "source": [
    "## 5 · Mini‑project\n",
    "Choose **one** of the datasets in the `datasets/` folder (e.g. `climate.csv`, `lab_sensors.csv`). Create a new notebook that:\n",
    "1. Loads the data into a `pandas` DataFrame.\n",
    "2. Cleans obvious issues (NaNs, outliers).\n",
    "3. Computes at least **two** insightful statistics.\n",
    "4. Produces a figure with **multiple axes** telling a concise story.\n",
    "5. Ends with 2‑3 bullet conclusions.\n"
   ]
  },
  {
   "cell_type": "code",
   "execution_count": null,
   "id": "9aae53f7-0f10-48b7-b073-e0fd8ae4f46f",
   "metadata": {},
   "outputs": [],
   "source": []
  }
 ],
 "metadata": {
  "kernelspec": {
   "display_name": "Python 3 (ipykernel)",
   "language": "python",
   "name": "python3"
  },
  "language_info": {
   "codemirror_mode": {
    "name": "ipython",
    "version": 3
   },
   "file_extension": ".py",
   "mimetype": "text/x-python",
   "name": "python",
   "nbconvert_exporter": "python",
   "pygments_lexer": "ipython3",
   "version": "3.12.10"
  }
 },
 "nbformat": 4,
 "nbformat_minor": 5
}
